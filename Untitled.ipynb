{
 "cells": [
  {
   "cell_type": "code",
   "execution_count": 2,
   "id": "6fd94ad6",
   "metadata": {},
   "outputs": [
    {
     "data": {
      "text/plain": [
       "['llama_7b', 'vicuna_7b', 'dolly_v2_3b', 'dolly_v2_7b']"
      ]
     },
     "execution_count": 2,
     "metadata": {},
     "output_type": "execute_result"
    }
   ],
   "source": [
    "aq.supported_llms"
   ]
  },
  {
   "cell_type": "code",
   "execution_count": 1,
   "id": "a342a3e5",
   "metadata": {},
   "outputs": [],
   "source": [
    "import aqueduct as aq"
   ]
  }
 ],
 "metadata": {
  "kernelspec": {
   "display_name": "Python 3 (ipykernel)",
   "language": "python",
   "name": "python3"
  },
  "language_info": {
   "codemirror_mode": {
    "name": "ipython",
    "version": 3
   },
   "file_extension": ".py",
   "mimetype": "text/x-python",
   "name": "python",
   "nbconvert_exporter": "python",
   "pygments_lexer": "ipython3",
   "version": "3.11.3"
  }
 },
 "nbformat": 4,
 "nbformat_minor": 5
}
